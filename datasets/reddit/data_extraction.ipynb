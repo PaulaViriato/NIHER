{
  "cells": [
    {
      "cell_type": "markdown",
      "source": [
        "# Captura de Dados provenientes de Fóruns no Reddit\n",
        "\n",
        "*   Desenvolvedora: Paula Jeniffer dos Santos Viriato\n",
        "*   Projeto: NIHER - Non-invasive and Highly Explainable Recommendations\n",
        "*   Data: 17 de abril de 2023\n",
        "\n"
      ],
      "metadata": {
        "id": "Dlp_wk-66J-H"
      }
    },
    {
      "cell_type": "code",
      "execution_count": null,
      "metadata": {
        "id": "LndaEqz4_4WC"
      },
      "outputs": [],
      "source": [
        "from google.colab import drive\n",
        "drive.mount('/content/drive')\n",
        "!pip install praw"
      ]
    },
    {
      "cell_type": "code",
      "execution_count": null,
      "metadata": {
        "id": "52oT4_H5indF"
      },
      "outputs": [],
      "source": [
        "import praw\n",
        "import json\n",
        "from IPython import display\n",
        "from nltk.sentiment.vader import SentimentIntensityAnalyzer as SIA\n",
        "import nltk\n",
        "import matplotlib.pyplot as plt\n",
        "import seaborn as sns\n",
        "from nltk.tokenize import word_tokenize\n",
        "import re"
      ]
    },
    {
      "cell_type": "code",
      "execution_count": null,
      "metadata": {
        "id": "PEakc_pwiwqq"
      },
      "outputs": [],
      "source": [
        "with open(\"credentials.json\", 'r') as jsonfile:\n",
        "    credentials = json.load(jsonfile)\n",
        "\n",
        "client_id = credentials[\"client_id\"]\n",
        "client_secret = credentials[\"client_secret\"]\n",
        "user_agent = \"Comment Extraction (by u/\"+credentials[\"username\"]+\")\"\n",
        "username = credentials[\"username\"]\n",
        "reddit = praw.Reddit(client_id=client_id, client_secret=client_secret, user_agent=user_agent, username=username, check_for_async=False)"
      ]
    },
    {
      "cell_type": "code",
      "source": [
        "def recursive_coments (submission):\n",
        "    recursive = []\n",
        "    report_message = \", **UPVOTE** esse comentário.\\n\\nSe esta postagem não é adequada para o \"\n",
        "    submission.comments.replace_more(limit=None)\n",
        "    if (len(submission.comments) > 0):\n",
        "        for comment in submission.comments:\n",
        "            if (report_message not in comment.body):\n",
        "                try:\n",
        "                    result = {}\n",
        "                    result[\"body\"] = comment.body\n",
        "                    for reply in comment.replies:\n",
        "                        try:\n",
        "                            reply_result = recursive_coments(reply)\n",
        "                            if (len(reply_result) > 0):\n",
        "                                if (\"comments\" not in result.keys): result[\"comments\"] = []\n",
        "                                result[\"comments\"].append(recursive_coments(reply))\n",
        "                        except: continue\n",
        "                    recursive.append(result)\n",
        "                except: continue\n",
        "    return recursive"
      ],
      "metadata": {
        "id": "cw5-APED1jvX"
      },
      "execution_count": null,
      "outputs": []
    },
    {
      "cell_type": "code",
      "execution_count": 10,
      "metadata": {
        "id": "3kZPoiHDkADt"
      },
      "outputs": [],
      "source": [
        "topic = ''\n",
        "posts = {}\n",
        "post_topic = reddit.subreddit(topic)\n",
        "count = 0\n",
        "pack = 0\n",
        "for post in post_topic.new(limit=10000):\n",
        "    posts[post.id] = {}\n",
        "    posts[post.id][\"title\"] = post.title\n",
        "    posts[post.id][\"selftext\"] = post.selftext\n",
        "    posts[post.id][\"num_comments\"] = post.num_comments\n",
        "    try:\n",
        "        comm_url = 'https://www.reddit.com/r/'+post.subreddit.display_name+'/comments/'+post.id+'/'\n",
        "        comm_result = recursive_coments(reddit.submission(url=comm_url))\n",
        "        if (len(comm_result) > 0): posts[post.id][\"comments\"] = recursive_coments(reddit.submission(url=comm_url))\n",
        "    except: continue\n",
        "\n",
        "    count += 1\n",
        "    if (count%10 == 0):\n",
        "        with open(\"reddit_\"+topic+\"_\"+str(pack)+\".json\", 'w') as jsonfile:\n",
        "            json.dump(posts, jsonfile, indent=4)\n",
        "    if (count%100 == 0): pack += 1"
      ]
    }
  ],
  "metadata": {
    "colab": {
      "provenance": []
    },
    "kernelspec": {
      "display_name": "Python 3",
      "name": "python3"
    },
    "language_info": {
      "name": "python"
    }
  },
  "nbformat": 4,
  "nbformat_minor": 0
}